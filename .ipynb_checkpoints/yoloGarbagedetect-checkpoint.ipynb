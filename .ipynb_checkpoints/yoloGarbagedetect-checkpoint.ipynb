{
 "cells": [
  {
   "cell_type": "code",
   "execution_count": null,
   "id": "79869e02",
   "metadata": {},
   "outputs": [],
   "source": [
    "#!git clone https://github.com/ultralytics/yolov5.git"
   ]
  },
  {
   "cell_type": "code",
   "execution_count": 1,
   "id": "8a486d15",
   "metadata": {},
   "outputs": [
    {
     "name": "stdout",
     "output_type": "stream",
     "text": [
      "C:\\Users\\HP\\Desktop\\openCV\\office\\yolov5project\\garbageDetection\\yolov5\n"
     ]
    }
   ],
   "source": [
    "cd yolov5"
   ]
  },
  {
   "cell_type": "code",
   "execution_count": null,
   "id": "b81256e4",
   "metadata": {},
   "outputs": [],
   "source": [
    "# !python train.py --epochs 5 --data .\\data\\garbageAnotatedata.yml --weights ./models/yolov5x.pt\n",
    "# !python train.py --cfg yolov5s.yaml --hyp hyp.scratch.yaml --batch 12 --epochs 75 --data C:\\Users\\HP\\Desktop\\openCV\\office\\yolov5project\\garbageDetection\\data.yaml --weights models/yolov5s.pt --workers 24 --name garbage_det\n"
   ]
  },
  {
   "cell_type": "code",
   "execution_count": null,
   "id": "b178eea2",
   "metadata": {},
   "outputs": [],
   "source": [
    "# !python detect.py --weights content/yolov5/yolov5s.pt  --source 0 #data/images/exm1.mp4\n"
   ]
  },
  {
   "cell_type": "code",
   "execution_count": 3,
   "id": "cc7f9015",
   "metadata": {
    "scrolled": true
   },
   "outputs": [
    {
     "name": "stdout",
     "output_type": "stream",
     "text": [
      "^C\n"
     ]
    }
   ],
   "source": [
    "# testimagepath= ..\\test\\images\n",
    "# weightpath= 'C:\\Users\\HP\\Desktop\\openCV\\office\\yolov5project\\garbageDetection\\yolov5\\runs\\detect\\garbage_det_final\\weights\\best.pt'\n",
    "\n",
    "\n",
    "!python detect.py --source C:\\Users\\HP\\Desktop\\photos\\checkorangi2.mp4 --weights C:\\Users\\HP\\Desktop\\weight\\run2\\exp2\\weights\\best.pt --conf 0.3 --name withoutaugument  \n"
   ]
  },
  {
   "cell_type": "code",
   "execution_count": null,
   "id": "ec4e059a",
   "metadata": {
    "scrolled": true
   },
   "outputs": [],
   "source": [
    "# !python detect.py --weights C:\\Users\\HP\\Desktop\\openCV\\office\\yolov5\\garbageDetection\\yolov5\\runs\\train\\garbage_det6\\weights\\best.pt  --source check.jpg"
   ]
  },
  {
   "cell_type": "code",
   "execution_count": null,
   "id": "fb4bf5d8",
   "metadata": {},
   "outputs": [],
   "source": [
    "#!zip filename.zip -r file_scource\n",
    "#!unzip filename.zip -d file_scource\n",
    "# !zip -r /content/file.zip /content/Folder_To_Zip"
   ]
  },
  {
   "cell_type": "code",
   "execution_count": null,
   "id": "b711f56b",
   "metadata": {
    "scrolled": true
   },
   "outputs": [],
   "source": [
    "!dir ls\n",
    "\n"
   ]
  },
  {
   "cell_type": "code",
   "execution_count": null,
   "id": "15b0a284",
   "metadata": {},
   "outputs": [],
   "source": []
  }
 ],
 "metadata": {
  "kernelspec": {
   "display_name": "Python 3",
   "language": "python",
   "name": "python3"
  },
  "language_info": {
   "codemirror_mode": {
    "name": "ipython",
    "version": 3
   },
   "file_extension": ".py",
   "mimetype": "text/x-python",
   "name": "python",
   "nbconvert_exporter": "python",
   "pygments_lexer": "ipython3",
   "version": "3.8.8"
  }
 },
 "nbformat": 4,
 "nbformat_minor": 5
}
